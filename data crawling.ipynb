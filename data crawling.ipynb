{
  "cells": [
    {
      "cell_type": "code",
      "source": [
        "!pip install praw"
      ],
      "metadata": {
        "colab": {
          "base_uri": "https://localhost:8080/"
        },
        "id": "j5h8nkTgt65Z",
        "outputId": "6666a202-09d7-442f-f9e5-c912e791454c"
      },
      "id": "j5h8nkTgt65Z",
      "execution_count": null,
      "outputs": [
        {
          "output_type": "stream",
          "name": "stdout",
          "text": [
            "Looking in indexes: https://pypi.org/simple, https://us-python.pkg.dev/colab-wheels/public/simple/\n",
            "Collecting praw\n",
            "  Downloading praw-7.7.0-py3-none-any.whl (189 kB)\n",
            "\u001b[2K     \u001b[90m━━━━━━━━━━━━━━━━━━━━━━━━━━━━━━━━━━━━━━━\u001b[0m \u001b[32m189.4/189.4 kB\u001b[0m \u001b[31m4.5 MB/s\u001b[0m eta \u001b[36m0:00:00\u001b[0m\n",
            "\u001b[?25hCollecting prawcore<3,>=2.1 (from praw)\n",
            "  Downloading prawcore-2.3.0-py3-none-any.whl (16 kB)\n",
            "Collecting update-checker>=0.18 (from praw)\n",
            "  Downloading update_checker-0.18.0-py3-none-any.whl (7.0 kB)\n",
            "Requirement already satisfied: websocket-client>=0.54.0 in /usr/local/lib/python3.10/dist-packages (from praw) (1.5.1)\n",
            "Requirement already satisfied: requests<3.0,>=2.6.0 in /usr/local/lib/python3.10/dist-packages (from prawcore<3,>=2.1->praw) (2.27.1)\n",
            "Requirement already satisfied: urllib3<1.27,>=1.21.1 in /usr/local/lib/python3.10/dist-packages (from requests<3.0,>=2.6.0->prawcore<3,>=2.1->praw) (1.26.15)\n",
            "Requirement already satisfied: certifi>=2017.4.17 in /usr/local/lib/python3.10/dist-packages (from requests<3.0,>=2.6.0->prawcore<3,>=2.1->praw) (2022.12.7)\n",
            "Requirement already satisfied: charset-normalizer~=2.0.0 in /usr/local/lib/python3.10/dist-packages (from requests<3.0,>=2.6.0->prawcore<3,>=2.1->praw) (2.0.12)\n",
            "Requirement already satisfied: idna<4,>=2.5 in /usr/local/lib/python3.10/dist-packages (from requests<3.0,>=2.6.0->prawcore<3,>=2.1->praw) (3.4)\n",
            "Installing collected packages: update-checker, prawcore, praw\n",
            "Successfully installed praw-7.7.0 prawcore-2.3.0 update-checker-0.18.0\n"
          ]
        }
      ]
    },
    {
      "cell_type": "code",
      "execution_count": null,
      "id": "aab53b58",
      "metadata": {
        "id": "aab53b58"
      },
      "outputs": [],
      "source": [
        "# import praw\n",
        "\n",
        "# # Khởi tạo phiên bản API của Reddit\n",
        "# reddit = praw.Reddit(\n",
        "#     client_id='437J4iQzksjpyJxJmvWxmw',\n",
        "#     client_secret='-8ywEAOtelK7NbDso3w4P9LRDpFHnw',\n",
        "#     user_agent='reddit_stream_tutorial',\n",
        "#     username='Baolongvncom',\n",
        "#     password='0914159915lol'\n",
        "# )\n",
        "\n",
        "# # Lấy danh sách các bài post từ tất cả các subreddit với từ khóa tìm kiếm\n",
        "# search_words = 'ChatGPT'\n",
        "# posts = reddit.subreddit('all').search(search_words, limit=5)  # Giới hạn lấy 5 bài post\n",
        "\n",
        "# # In thông tin các bài post\n",
        "# for post in posts:\n",
        "#     print(f'Tiêu đề: {post.title}')\n",
        "#     print(f'URL: {post.url}')\n",
        "#     print(f'Nội dung: {post.content}')\n"
      ]
    },
    {
      "cell_type": "code",
      "source": [
        "import praw\n",
        "\n",
        "# Khởi tạo phiên bản API của Reddit\n",
        "reddit = praw.Reddit(\n",
        "    client_id='437J4iQzksjpyJxJmvWxmw',\n",
        "    client_secret='-8ywEAOtelK7NbDso3w4P9LRDpFHnw',\n",
        "    user_agent='reddit_stream_tutorial',\n",
        "    username='Baolongvncom',\n",
        "    password='0914159915lol'\n",
        ")\n",
        "\n",
        "# Lấy danh sách các bài post từ tất cả các subreddit với từ khóa tìm kiếm\n",
        "search_words = 'ChatGPT'\n",
        "# posts = reddit.subreddit('all').search(search_words, limit=5)"
      ],
      "metadata": {
        "id": "PZZk0np2t13-"
      },
      "id": "PZZk0np2t13-",
      "execution_count": null,
      "outputs": []
    },
    {
      "cell_type": "code",
      "source": [
        "posts = reddit.subreddit('all').search(search_words, limit=20)\n",
        "\n",
        "# Specify the file path where you want to save the data\n",
        "file_path = \"posts_data.txt\"\n",
        "\n",
        "# Open the file in write mode\n",
        "with open(file_path, \"w\") as file:\n",
        "    # Iterate over the posts and save their attributes\n",
        "    for post in posts:\n",
        "        post_data = {\n",
        "            \"title\": post.title,\n",
        "            \"author\": post.author.name,\n",
        "            \"score\": post.score,\n",
        "            \"created_utc\": post.created_utc,\n",
        "            # Add more attributes as needed\n",
        "        }\n",
        "        # Convert the post data to a string representation\n",
        "        post_data_str = str(post_data)\n",
        "        # Write the post data to the file\n",
        "        file.write(post_data_str + \"\\n\")\n"
      ],
      "metadata": {
        "id": "JTXJk2UquU2e",
        "colab": {
          "base_uri": "https://localhost:8080/"
        },
        "outputId": "d86e730b-82f1-4f0b-ba02-bbcbd30bf918"
      },
      "id": "JTXJk2UquU2e",
      "execution_count": null,
      "outputs": [
        {
          "output_type": "stream",
          "name": "stderr",
          "text": [
            "WARNING:praw:It appears that you are using PRAW in an asynchronous environment.\n",
            "It is strongly recommended to use Async PRAW: https://asyncpraw.readthedocs.io.\n",
            "See https://praw.readthedocs.io/en/latest/getting_started/multiple_instances.html#discord-bots-and-asynchronous-environments for more info.\n",
            "\n"
          ]
        }
      ]
    },
    {
      "cell_type": "code",
      "source": [
        "import praw\n",
        "import pandas as pd\n",
        "\n",
        "# Initialize Reddit API client\n",
        "reddit = praw.Reddit(client_id='437J4iQzksjpyJxJmvWxmw',\n",
        "                     client_secret='-8ywEAOtelK7NbDso3w4P9LRDpFHnw',\n",
        "                     user_agent='reddit_stream_tutorial',\n",
        "                     username='Baolongvncom',\n",
        "                     password='0914159915lol')\n",
        "\n",
        "search_words = 'title:ChatGPT title:Good'\n",
        "# Create lists to store the data\n",
        "titles = []\n",
        "urls = []\n",
        "ids = []\n",
        "created_utcs = []\n",
        "contents = []\n",
        "permalinks = []\n",
        "\n",
        "# Retrieve a batch of posts\n",
        "posts = reddit.subreddit('all').search(search_words, limit=1000000)\n",
        "\n",
        "# Process each post\n",
        "for post in posts:\n",
        "    # Store the data in the lists\n",
        "    titles.append(post.title)\n",
        "    urls.append(post.url)\n",
        "    ids.append(post.id)\n",
        "    created_utcs.append(post.created_utc)\n",
        "    contents.append(post.selftext)\n",
        "    permalinks.append(post.permalink)\n",
        "\n",
        "# Create a DataFrame from the lists\n",
        "data = {'Title': titles, 'URL': urls, \"ID\": ids, \"Created_utc\": created_utcs, \"Content\": contents, \"permalink\": permalinks}\n",
        "df = pd.DataFrame(data)\n",
        "\n",
        "# Save the DataFrame to an Excel file\n",
        "df.to_excel('reddit_posts1.xlsx', index=False)"
      ],
      "metadata": {
        "colab": {
          "base_uri": "https://localhost:8080/"
        },
        "id": "aMgWnoI85rTx",
        "outputId": "4e1f350c-7ce1-436c-a45a-38f4ae9a6155"
      },
      "id": "aMgWnoI85rTx",
      "execution_count": null,
      "outputs": [
        {
          "output_type": "stream",
          "name": "stderr",
          "text": [
            "WARNING:praw:It appears that you are using PRAW in an asynchronous environment.\n",
            "It is strongly recommended to use Async PRAW: https://asyncpraw.readthedocs.io.\n",
            "See https://praw.readthedocs.io/en/latest/getting_started/multiple_instances.html#discord-bots-and-asynchronous-environments for more info.\n",
            "\n",
            "WARNING:praw:It appears that you are using PRAW in an asynchronous environment.\n",
            "It is strongly recommended to use Async PRAW: https://asyncpraw.readthedocs.io.\n",
            "See https://praw.readthedocs.io/en/latest/getting_started/multiple_instances.html#discord-bots-and-asynchronous-environments for more info.\n",
            "\n",
            "WARNING:praw:It appears that you are using PRAW in an asynchronous environment.\n",
            "It is strongly recommended to use Async PRAW: https://asyncpraw.readthedocs.io.\n",
            "See https://praw.readthedocs.io/en/latest/getting_started/multiple_instances.html#discord-bots-and-asynchronous-environments for more info.\n",
            "\n"
          ]
        }
      ]
    },
    {
      "cell_type": "code",
      "source": [],
      "metadata": {
        "id": "vIT2k_pC-TMd"
      },
      "id": "vIT2k_pC-TMd",
      "execution_count": null,
      "outputs": []
    }
  ],
  "metadata": {
    "kernelspec": {
      "display_name": "Python 3 (ipykernel)",
      "language": "python",
      "name": "python3"
    },
    "language_info": {
      "codemirror_mode": {
        "name": "ipython",
        "version": 3
      },
      "file_extension": ".py",
      "mimetype": "text/x-python",
      "name": "python",
      "nbconvert_exporter": "python",
      "pygments_lexer": "ipython3",
      "version": "3.10.9"
    },
    "colab": {
      "provenance": []
    }
  },
  "nbformat": 4,
  "nbformat_minor": 5
}